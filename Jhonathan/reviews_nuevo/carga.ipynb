{
 "cells": [
  {
   "cell_type": "code",
   "execution_count": 1,
   "metadata": {},
   "outputs": [],
   "source": [
    "from sqlalchemy import create_engine\n",
    "\n",
    "def pasar_a_MySQL(df,tableName,accion='fail',especial=None):\n",
    "    '''\n",
    "    accion =  if_exists{‘fail’, ‘replace’, ‘append’}, default ‘fail’\n",
    "    especial = \"{'attributes': sqlalchemy.types.JSON, 'hours':sqlalchemy.types.JSON}\"\n",
    "    '''\n",
    "    host = '127.0.0.1' \n",
    "    user = 'root'\n",
    "    passwd = 'JCSR.MySQL123'\n",
    "    db = 'Proyecto_Final_YELP'\n",
    "    \n",
    "    sqlEngine       = create_engine('mysql+pymysql://'+user+':'+passwd+'@'+host+'/'+db)\n",
    "    dbConnection    = sqlEngine.connect()\n",
    "    \n",
    "    if especial:\n",
    "        try:\n",
    "            df.to_sql(tableName, dbConnection, index=False, if_exists = accion, dtype = especial) \n",
    "        except ValueError as vx:\n",
    "            print(vx)\n",
    "        except Exception as ex:   \n",
    "            print(ex)\n",
    "        else:\n",
    "            print(\"Table %s created successfully.\"%tableName)\n",
    "        finally:\n",
    "            dbConnection.close()\n",
    "    else:\n",
    "        try:\n",
    "            df.to_sql(tableName , dbConnection,index=False, if_exists = accion) \n",
    "        except ValueError as vx:\n",
    "            print(vx)\n",
    "        except Exception as ex:   \n",
    "            print(ex)\n",
    "        else:\n",
    "            print(\"Table %s created successfully.\"%tableName)\n",
    "        finally:\n",
    "            dbConnection.close()"
   ]
  },
  {
   "cell_type": "code",
   "execution_count": 2,
   "metadata": {},
   "outputs": [],
   "source": [
    "import pandas as pd\n",
    "df = pd.read_parquet('reviews_inicial.parquet.gzip')"
   ]
  },
  {
   "cell_type": "code",
   "execution_count": 3,
   "metadata": {},
   "outputs": [
    {
     "name": "stdout",
     "output_type": "stream",
     "text": [
      "<class 'pandas.core.frame.DataFrame'>\n",
      "Int64Index: 6021799 entries, 0 to 843514\n",
      "Data columns (total 6 columns):\n",
      " #   Column       Dtype \n",
      "---  ------       ----- \n",
      " 0   id_review    int64 \n",
      " 1   id_user      uint32\n",
      " 2   id_business  int64 \n",
      " 3   stars        int64 \n",
      " 4   year         int64 \n",
      " 5   month        int64 \n",
      "dtypes: int64(5), uint32(1)\n",
      "memory usage: 298.6 MB\n"
     ]
    }
   ],
   "source": [
    "df.info()"
   ]
  },
  {
   "cell_type": "code",
   "execution_count": 12,
   "metadata": {},
   "outputs": [
    {
     "data": {
      "text/plain": [
       "(6021799, 6)"
      ]
     },
     "execution_count": 12,
     "metadata": {},
     "output_type": "execute_result"
    }
   ],
   "source": [
    "df.head()\n",
    "df.shape"
   ]
  },
  {
   "cell_type": "code",
   "execution_count": 11,
   "metadata": {},
   "outputs": [
    {
     "data": {
      "text/plain": [
       "880400"
      ]
     },
     "execution_count": 11,
     "metadata": {},
     "output_type": "execute_result"
    }
   ],
   "source": [
    "len(df['id_review'].drop_duplicates())"
   ]
  },
  {
   "cell_type": "code",
   "execution_count": null,
   "metadata": {},
   "outputs": [],
   "source": [
    "#Carga de review\n",
    "import sqlalchemy\n",
    "especial = {'id_review': sqlalchemy.types.Integer, 'id_user':sqlalchemy.types.Integer,'id_business':sqlalchemy.types.Integer,'stars':sqlalchemy.types.SmallInteger¶ }\n",
    "pasar_a_MySQL(df,'review2','fail',especial)"
   ]
  },
  {
   "cell_type": "code",
   "execution_count": null,
   "metadata": {},
   "outputs": [],
   "source": []
  }
 ],
 "metadata": {
  "kernelspec": {
   "display_name": "Python 3.9.8 64-bit",
   "language": "python",
   "name": "python3"
  },
  "language_info": {
   "codemirror_mode": {
    "name": "ipython",
    "version": 3
   },
   "file_extension": ".py",
   "mimetype": "text/x-python",
   "name": "python",
   "nbconvert_exporter": "python",
   "pygments_lexer": "ipython3",
   "version": "3.9.8"
  },
  "orig_nbformat": 4,
  "vscode": {
   "interpreter": {
    "hash": "78a5f5e9430e63759269e8e709c4002b1ad533978ca32d2fcf985e534411cec9"
   }
  }
 },
 "nbformat": 4,
 "nbformat_minor": 2
}
