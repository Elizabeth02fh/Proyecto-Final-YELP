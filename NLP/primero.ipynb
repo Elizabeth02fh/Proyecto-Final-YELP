{
  "nbformat": 4,
  "nbformat_minor": 0,
  "metadata": {
    "colab": {
      "provenance": []
    },
    "kernelspec": {
      "name": "python3",
      "display_name": "Python 3"
    },
    "language_info": {
      "name": "python"
    }
  },
  "cells": [
    {
      "cell_type": "code",
      "source": [
        "import pandas as pd\n",
        "df = pd.read_csv('/content/drive/MyDrive/probando/review_2018.csv')\n",
        "df['date'] = pd.to_datetime(df['date'])\n",
        "df.info()\n",
        "# Selecciona todas las columnas para las filas con índices entre 0 y 10\n",
        "df = df.iloc[:100]\n",
        "#We add a blank space before each review, because I didn't want to convert the first word of each review\n",
        "df.text = ' '+df.text\n",
        "#capitalize(): to change the first letter from a word to lowercase\n",
        "#strip(): to remove empty spaces from the left and right\n",
        "df.text = df.text.str.capitalize().str.strip()\n",
        "#df['text'] = df['text'].astype('string')\n",
        "# df.dtypes"
      ],
      "metadata": {
        "colab": {
          "base_uri": "https://localhost:8080/"
        },
        "id": "XoYHdoERbeqy",
        "outputId": "1f11f60f-b67b-42eb-fb54-c7d3884f9dec"
      },
      "execution_count": 26,
      "outputs": [
        {
          "output_type": "stream",
          "name": "stdout",
          "text": [
            "<class 'pandas.core.frame.DataFrame'>\n",
            "RangeIndex: 906362 entries, 0 to 906361\n",
            "Data columns (total 9 columns):\n",
            " #   Column       Non-Null Count   Dtype         \n",
            "---  ------       --------------   -----         \n",
            " 0   review_id    906362 non-null  object        \n",
            " 1   user_id      906362 non-null  object        \n",
            " 2   business_id  906362 non-null  object        \n",
            " 3   stars        906362 non-null  int64         \n",
            " 4   useful       906362 non-null  int64         \n",
            " 5   funny        906362 non-null  int64         \n",
            " 6   cool         906362 non-null  int64         \n",
            " 7   text         906362 non-null  object        \n",
            " 8   date         906362 non-null  datetime64[ns]\n",
            "dtypes: datetime64[ns](1), int64(4), object(4)\n",
            "memory usage: 62.2+ MB\n"
          ]
        },
        {
          "output_type": "stream",
          "name": "stderr",
          "text": [
            "/usr/local/lib/python3.7/dist-packages/pandas/core/generic.py:5516: SettingWithCopyWarning: \n",
            "A value is trying to be set on a copy of a slice from a DataFrame.\n",
            "Try using .loc[row_indexer,col_indexer] = value instead\n",
            "\n",
            "See the caveats in the documentation: https://pandas.pydata.org/pandas-docs/stable/user_guide/indexing.html#returning-a-view-versus-a-copy\n",
            "  self[name] = value\n"
          ]
        }
      ]
    },
    {
      "cell_type": "markdown",
      "source": [
        "Tokenización"
      ],
      "metadata": {
        "id": "e87srH8AOMV3"
      }
    },
    {
      "cell_type": "code",
      "source": [
        "import nltk\n",
        "nltk.download('stopwords')\n",
        "nltk.download('word_tokenize')\n",
        "nltk.download('punkt')\n",
        "# importing libraries\n",
        "from nltk.corpus import stopwords\n",
        "from nltk.tokenize import word_tokenize \n",
        "import nltk.data\n",
        "set(stopwords.words('english'))\n",
        "# set of stop words\n",
        "stop_words = set(stopwords.words('english')) \n",
        "# word_tokens"
      ],
      "metadata": {
        "colab": {
          "base_uri": "https://localhost:8080/"
        },
        "id": "g9gSqIE1no-y",
        "outputId": "b693bc04-d632-4361-862a-9fa3943448da"
      },
      "execution_count": 27,
      "outputs": [
        {
          "output_type": "stream",
          "name": "stderr",
          "text": [
            "[nltk_data] Downloading package stopwords to /root/nltk_data...\n",
            "[nltk_data]   Package stopwords is already up-to-date!\n",
            "[nltk_data] Error loading word_tokenize: Package 'word_tokenize' not\n",
            "[nltk_data]     found in index\n",
            "[nltk_data] Downloading package punkt to /root/nltk_data...\n",
            "[nltk_data]   Package punkt is already up-to-date!\n"
          ]
        }
      ]
    },
    {
      "cell_type": "code",
      "source": [
        "def not_stopwords(frase):   \n",
        "\n",
        "# tokens of words  \n",
        "  word_tokens = word_tokenize(frase) \n",
        "\n",
        "  filtered_sentence = [] \n",
        "\n",
        "  for w in word_tokens: \n",
        "      if w not in stop_words: \n",
        "          filtered_sentence.append(w) \n",
        "\n",
        "  return \" \".join(filtered_sentence) "
      ],
      "metadata": {
        "id": "1r-PZ2g7Q3-w"
      },
      "execution_count": 28,
      "outputs": []
    },
    {
      "cell_type": "code",
      "source": [
        "df.text = df.text.apply(lambda x: not_stopwords(x))\n",
        "df.text.iloc[2]"
      ],
      "metadata": {
        "colab": {
          "base_uri": "https://localhost:8080/",
          "height": 53
        },
        "id": "JY6ZzRXvKCzH",
        "outputId": "2e8bd9a8-4f76-4284-ecc2-ead07a60df7b"
      },
      "execution_count": 29,
      "outputs": [
        {
          "output_type": "execute_result",
          "data": {
            "text/plain": [
              "\"boyfriend tried deli first time today . turkey , avocado & bacon panini ha buffalo chicken wrap . definitely returning . wait food n't long , always appreciated lunch hour . much choose . salads , soup , macaroni , sandwiches hot food . love deli many options choose !\""
            ],
            "application/vnd.google.colaboratory.intrinsic+json": {
              "type": "string"
            }
          },
          "metadata": {},
          "execution_count": 29
        }
      ]
    },
    {
      "cell_type": "code",
      "source": [
        "# #filtrar caracteres especiales dentro de un dataframe con la libreria re en python\n",
        "import re\n",
        "df.text = df.text.apply(lambda x: re.sub(\"[^a-zA-Z]\",\" \",str(x)))\n",
        "# now\n",
        "print(df.text.loc[2])"
      ],
      "metadata": {
        "colab": {
          "base_uri": "https://localhost:8080/"
        },
        "id": "Cwc_JS2faCvE",
        "outputId": "03d0219b-2306-441e-f40a-aa30bc06b4bf"
      },
      "execution_count": 30,
      "outputs": [
        {
          "output_type": "stream",
          "name": "stdout",
          "text": [
            "boyfriend tried deli first time today   turkey   avocado   bacon panini ha buffalo chicken wrap   definitely returning   wait food n t long   always appreciated lunch hour   much choose   salads   soup   macaroni   sandwiches hot food   love deli many options choose  \n"
          ]
        }
      ]
    },
    {
      "cell_type": "markdown",
      "source": [
        "Stemmer"
      ],
      "metadata": {
        "id": "YpFUe1FlO_Mj"
      }
    },
    {
      "cell_type": "code",
      "source": [
        "df.text = df.text.apply(lambda x: word_tokenize(x))\n",
        "df.text\n",
        "from nltk.stem import PorterStemmer\n",
        "\n",
        "def stemmering(phrase):\n",
        "  Stem_words = []\n",
        "  ps =PorterStemmer()\n",
        "  for w in phrase:\n",
        "      rootWord=ps.stem(w)\n",
        "      Stem_words.append(rootWord)\n",
        "  return Stem_words"
      ],
      "metadata": {
        "id": "cRiqpFubQkzP"
      },
      "execution_count": 31,
      "outputs": []
    },
    {
      "cell_type": "code",
      "source": [
        "df.text = df.text.apply(lambda x: stemmering(x))\n",
        "df.text "
      ],
      "metadata": {
        "colab": {
          "base_uri": "https://localhost:8080/"
        },
        "id": "LLFIeCCUQozR",
        "outputId": "7a54b353-c5d8-4f1a-90e7-d3d546a65d6b"
      },
      "execution_count": 32,
      "outputs": [
        {
          "output_type": "execute_result",
          "data": {
            "text/plain": [
              "0     [decid, eat, awar, go, take, hour, begin, end,...\n",
              "1     [realli, star, one, love, th, street, nake, tc...\n",
              "2     [boyfriend, tri, deli, first, time, today, tur...\n",
              "3     [amaz, biscuit, fill, blank, great, cocktail, ...\n",
              "4     [cafe, extrem, cute, came, am, even, jazz, ban...\n",
              "                            ...                        \n",
              "95    [ve, time, n, t, disappoint, yet, meat, eater,...\n",
              "96    [place, search, friend, tri, sever, nail, salo...\n",
              "97    [uniqu, profession, base, experi, oper, utmost...\n",
              "98    [top, notch, street, taco, great, servic, hand...\n",
              "99    [holi, bat, crap, place, amaz, go, place, st, ...\n",
              "Name: text, Length: 100, dtype: object"
            ]
          },
          "metadata": {},
          "execution_count": 32
        }
      ]
    },
    {
      "cell_type": "markdown",
      "source": [
        "FreqDist: Cuantas veces se repite por review"
      ],
      "metadata": {
        "id": "eQj6lELxO52R"
      }
    },
    {
      "cell_type": "code",
      "source": [
        "import nltk\n",
        "df.text = df.text.apply(lambda x: nltk.FreqDist(x))\n",
        "df.text.iloc[0]"
      ],
      "metadata": {
        "colab": {
          "base_uri": "https://localhost:8080/"
        },
        "id": "UCaCyGDMjbl_",
        "outputId": "904a406d-fac8-4aa2-bdd8-6ebd214036f3"
      },
      "execution_count": 33,
      "outputs": [
        {
          "output_type": "execute_result",
          "data": {
            "text/plain": [
              "FreqDist({'take': 2, 'time': 2, 'experi': 2, 'long': 2, 'usual': 2, 'decid': 1, 'eat': 1, 'awar': 1, 'go': 1, 'hour': 1, ...})"
            ]
          },
          "metadata": {},
          "execution_count": 33
        }
      ]
    },
    {
      "cell_type": "code",
      "source": [
        "#aqui lo convirtiio rapido prq era un dict_items\n",
        "def one_word(frase):\n",
        "  frase = dict(sorted(frase.items(), key=lambda item:item[1], reverse=True))\n",
        "  frase = list(frase.items())[0]\n",
        "  return frase[0]\n"
      ],
      "metadata": {
        "id": "_7y4CTb8fPFF"
      },
      "execution_count": 34,
      "outputs": []
    },
    {
      "cell_type": "code",
      "source": [
        "one_word(df.text.iloc[0])"
      ],
      "metadata": {
        "colab": {
          "base_uri": "https://localhost:8080/",
          "height": 35
        },
        "id": "kApZaqw-8tsn",
        "outputId": "a490be54-5de4-46ef-850c-9a0117e932cc"
      },
      "execution_count": 35,
      "outputs": [
        {
          "output_type": "execute_result",
          "data": {
            "text/plain": [
              "'take'"
            ],
            "application/vnd.google.colaboratory.intrinsic+json": {
              "type": "string"
            }
          },
          "metadata": {},
          "execution_count": 35
        }
      ]
    },
    {
      "cell_type": "markdown",
      "source": [
        "Palabra q mas ses repite por review en la columna 'text', faltaria filtrar un poco mas creo q sacare las palabras menos de 3 letras, y sustantivos eso tratare de hcaerlo con el notebook segundo"
      ],
      "metadata": {
        "id": "SvoCF42p9t23"
      }
    },
    {
      "cell_type": "code",
      "source": [
        "df.text = df.text.apply(lambda x: one_word(x))\n",
        "df.text "
      ],
      "metadata": {
        "colab": {
          "base_uri": "https://localhost:8080/"
        },
        "id": "bUd_lhRq9ZSo",
        "outputId": "0fe4c940-e295-4ddc-b181-50cefb768e68"
      },
      "execution_count": 36,
      "outputs": [
        {
          "output_type": "execute_result",
          "data": {
            "text/plain": [
              "0          take\n",
              "1         sushi\n",
              "2          deli\n",
              "3          amaz\n",
              "4     breakfast\n",
              "        ...    \n",
              "95           ve\n",
              "96        place\n",
              "97         base\n",
              "98          top\n",
              "99        place\n",
              "Name: text, Length: 100, dtype: object"
            ]
          },
          "metadata": {},
          "execution_count": 36
        }
      ]
    },
    {
      "cell_type": "code",
      "source": [
        "df.head(5)"
      ],
      "metadata": {
        "colab": {
          "base_uri": "https://localhost:8080/",
          "height": 250
        },
        "id": "RIpSWCiR-NKc",
        "outputId": "9da03b43-f68e-419f-f0ee-0b2825800a29"
      },
      "execution_count": 38,
      "outputs": [
        {
          "output_type": "execute_result",
          "data": {
            "text/plain": [
              "                review_id                 user_id             business_id  \\\n",
              "0  KU_O5udG6zpxOg-VcAEodg  mh_-eMZ6K5RLWhZyISBhwA  XQfwVwDr-v0ZS3_CbbE5Xw   \n",
              "1  lUUhg8ltDsUZ9h0xnwY4Dg  RreNy--tOmXMl1en0wiBOg  cPepkJeRMtHapc_b2Oe_dw   \n",
              "2  JBWZmBy69VMggxj3eYn17Q  aFa96pz67TwOFu4Weq5Agg  kq5Ghhh14r-eCxlVmlyd8w   \n",
              "3  E9AB7V4z8xrt2uPF7T55FQ  iYY5Ii1LGpZCpXFkHlMefw  Zx7n8mdt8OzLRXVzolXNhQ   \n",
              "4  A4n4YaE-owOVgTQcrVqHUw  S7bjj-L07JuRr-tpX1UZLw  I6L0Zxi5Ww0zEWSAVgngeQ   \n",
              "\n",
              "   stars  useful  funny  cool       text                date  \n",
              "0      3       0      0     0       take 2018-07-07 22:09:11  \n",
              "1      4       1      0     1      sushi 2018-07-17 03:30:07  \n",
              "2      5       0      0     0       deli 2018-08-23 21:39:38  \n",
              "3      5       0      0     0       amaz 2018-04-27 23:03:21  \n",
              "4      4       0      0     0  breakfast 2018-07-07 20:50:12  "
            ],
            "text/html": [
              "\n",
              "  <div id=\"df-5944a235-7691-4ce3-8025-66fa80fbb166\">\n",
              "    <div class=\"colab-df-container\">\n",
              "      <div>\n",
              "<style scoped>\n",
              "    .dataframe tbody tr th:only-of-type {\n",
              "        vertical-align: middle;\n",
              "    }\n",
              "\n",
              "    .dataframe tbody tr th {\n",
              "        vertical-align: top;\n",
              "    }\n",
              "\n",
              "    .dataframe thead th {\n",
              "        text-align: right;\n",
              "    }\n",
              "</style>\n",
              "<table border=\"1\" class=\"dataframe\">\n",
              "  <thead>\n",
              "    <tr style=\"text-align: right;\">\n",
              "      <th></th>\n",
              "      <th>review_id</th>\n",
              "      <th>user_id</th>\n",
              "      <th>business_id</th>\n",
              "      <th>stars</th>\n",
              "      <th>useful</th>\n",
              "      <th>funny</th>\n",
              "      <th>cool</th>\n",
              "      <th>text</th>\n",
              "      <th>date</th>\n",
              "    </tr>\n",
              "  </thead>\n",
              "  <tbody>\n",
              "    <tr>\n",
              "      <th>0</th>\n",
              "      <td>KU_O5udG6zpxOg-VcAEodg</td>\n",
              "      <td>mh_-eMZ6K5RLWhZyISBhwA</td>\n",
              "      <td>XQfwVwDr-v0ZS3_CbbE5Xw</td>\n",
              "      <td>3</td>\n",
              "      <td>0</td>\n",
              "      <td>0</td>\n",
              "      <td>0</td>\n",
              "      <td>take</td>\n",
              "      <td>2018-07-07 22:09:11</td>\n",
              "    </tr>\n",
              "    <tr>\n",
              "      <th>1</th>\n",
              "      <td>lUUhg8ltDsUZ9h0xnwY4Dg</td>\n",
              "      <td>RreNy--tOmXMl1en0wiBOg</td>\n",
              "      <td>cPepkJeRMtHapc_b2Oe_dw</td>\n",
              "      <td>4</td>\n",
              "      <td>1</td>\n",
              "      <td>0</td>\n",
              "      <td>1</td>\n",
              "      <td>sushi</td>\n",
              "      <td>2018-07-17 03:30:07</td>\n",
              "    </tr>\n",
              "    <tr>\n",
              "      <th>2</th>\n",
              "      <td>JBWZmBy69VMggxj3eYn17Q</td>\n",
              "      <td>aFa96pz67TwOFu4Weq5Agg</td>\n",
              "      <td>kq5Ghhh14r-eCxlVmlyd8w</td>\n",
              "      <td>5</td>\n",
              "      <td>0</td>\n",
              "      <td>0</td>\n",
              "      <td>0</td>\n",
              "      <td>deli</td>\n",
              "      <td>2018-08-23 21:39:38</td>\n",
              "    </tr>\n",
              "    <tr>\n",
              "      <th>3</th>\n",
              "      <td>E9AB7V4z8xrt2uPF7T55FQ</td>\n",
              "      <td>iYY5Ii1LGpZCpXFkHlMefw</td>\n",
              "      <td>Zx7n8mdt8OzLRXVzolXNhQ</td>\n",
              "      <td>5</td>\n",
              "      <td>0</td>\n",
              "      <td>0</td>\n",
              "      <td>0</td>\n",
              "      <td>amaz</td>\n",
              "      <td>2018-04-27 23:03:21</td>\n",
              "    </tr>\n",
              "    <tr>\n",
              "      <th>4</th>\n",
              "      <td>A4n4YaE-owOVgTQcrVqHUw</td>\n",
              "      <td>S7bjj-L07JuRr-tpX1UZLw</td>\n",
              "      <td>I6L0Zxi5Ww0zEWSAVgngeQ</td>\n",
              "      <td>4</td>\n",
              "      <td>0</td>\n",
              "      <td>0</td>\n",
              "      <td>0</td>\n",
              "      <td>breakfast</td>\n",
              "      <td>2018-07-07 20:50:12</td>\n",
              "    </tr>\n",
              "  </tbody>\n",
              "</table>\n",
              "</div>\n",
              "      <button class=\"colab-df-convert\" onclick=\"convertToInteractive('df-5944a235-7691-4ce3-8025-66fa80fbb166')\"\n",
              "              title=\"Convert this dataframe to an interactive table.\"\n",
              "              style=\"display:none;\">\n",
              "        \n",
              "  <svg xmlns=\"http://www.w3.org/2000/svg\" height=\"24px\"viewBox=\"0 0 24 24\"\n",
              "       width=\"24px\">\n",
              "    <path d=\"M0 0h24v24H0V0z\" fill=\"none\"/>\n",
              "    <path d=\"M18.56 5.44l.94 2.06.94-2.06 2.06-.94-2.06-.94-.94-2.06-.94 2.06-2.06.94zm-11 1L8.5 8.5l.94-2.06 2.06-.94-2.06-.94L8.5 2.5l-.94 2.06-2.06.94zm10 10l.94 2.06.94-2.06 2.06-.94-2.06-.94-.94-2.06-.94 2.06-2.06.94z\"/><path d=\"M17.41 7.96l-1.37-1.37c-.4-.4-.92-.59-1.43-.59-.52 0-1.04.2-1.43.59L10.3 9.45l-7.72 7.72c-.78.78-.78 2.05 0 2.83L4 21.41c.39.39.9.59 1.41.59.51 0 1.02-.2 1.41-.59l7.78-7.78 2.81-2.81c.8-.78.8-2.07 0-2.86zM5.41 20L4 18.59l7.72-7.72 1.47 1.35L5.41 20z\"/>\n",
              "  </svg>\n",
              "      </button>\n",
              "      \n",
              "  <style>\n",
              "    .colab-df-container {\n",
              "      display:flex;\n",
              "      flex-wrap:wrap;\n",
              "      gap: 12px;\n",
              "    }\n",
              "\n",
              "    .colab-df-convert {\n",
              "      background-color: #E8F0FE;\n",
              "      border: none;\n",
              "      border-radius: 50%;\n",
              "      cursor: pointer;\n",
              "      display: none;\n",
              "      fill: #1967D2;\n",
              "      height: 32px;\n",
              "      padding: 0 0 0 0;\n",
              "      width: 32px;\n",
              "    }\n",
              "\n",
              "    .colab-df-convert:hover {\n",
              "      background-color: #E2EBFA;\n",
              "      box-shadow: 0px 1px 2px rgba(60, 64, 67, 0.3), 0px 1px 3px 1px rgba(60, 64, 67, 0.15);\n",
              "      fill: #174EA6;\n",
              "    }\n",
              "\n",
              "    [theme=dark] .colab-df-convert {\n",
              "      background-color: #3B4455;\n",
              "      fill: #D2E3FC;\n",
              "    }\n",
              "\n",
              "    [theme=dark] .colab-df-convert:hover {\n",
              "      background-color: #434B5C;\n",
              "      box-shadow: 0px 1px 3px 1px rgba(0, 0, 0, 0.15);\n",
              "      filter: drop-shadow(0px 1px 2px rgba(0, 0, 0, 0.3));\n",
              "      fill: #FFFFFF;\n",
              "    }\n",
              "  </style>\n",
              "\n",
              "      <script>\n",
              "        const buttonEl =\n",
              "          document.querySelector('#df-5944a235-7691-4ce3-8025-66fa80fbb166 button.colab-df-convert');\n",
              "        buttonEl.style.display =\n",
              "          google.colab.kernel.accessAllowed ? 'block' : 'none';\n",
              "\n",
              "        async function convertToInteractive(key) {\n",
              "          const element = document.querySelector('#df-5944a235-7691-4ce3-8025-66fa80fbb166');\n",
              "          const dataTable =\n",
              "            await google.colab.kernel.invokeFunction('convertToInteractive',\n",
              "                                                     [key], {});\n",
              "          if (!dataTable) return;\n",
              "\n",
              "          const docLinkHtml = 'Like what you see? Visit the ' +\n",
              "            '<a target=\"_blank\" href=https://colab.research.google.com/notebooks/data_table.ipynb>data table notebook</a>'\n",
              "            + ' to learn more about interactive tables.';\n",
              "          element.innerHTML = '';\n",
              "          dataTable['output_type'] = 'display_data';\n",
              "          await google.colab.output.renderOutput(dataTable, element);\n",
              "          const docLink = document.createElement('div');\n",
              "          docLink.innerHTML = docLinkHtml;\n",
              "          element.appendChild(docLink);\n",
              "        }\n",
              "      </script>\n",
              "    </div>\n",
              "  </div>\n",
              "  "
            ]
          },
          "metadata": {},
          "execution_count": 38
        }
      ]
    }
  ]
}